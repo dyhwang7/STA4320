{
  "nbformat": 4,
  "nbformat_minor": 0,
  "metadata": {
    "colab": {
      "name": "final_prep.ipynb",
      "provenance": [],
      "authorship_tag": "ABX9TyMkrPVRKFZ2jXkkRTOrHhwR",
      "include_colab_link": true
    },
    "kernelspec": {
      "name": "ir",
      "display_name": "R"
    },
    "language_info": {
      "name": "R"
    }
  },
  "cells": [
    {
      "cell_type": "markdown",
      "metadata": {
        "id": "view-in-github",
        "colab_type": "text"
      },
      "source": [
        "<a href=\"https://colab.research.google.com/github/dyhwang7/STA4320/blob/main/final_prep.ipynb\" target=\"_parent\"><img src=\"https://colab.research.google.com/assets/colab-badge.svg\" alt=\"Open In Colab\"/></a>"
      ]
    },
    {
      "cell_type": "markdown",
      "metadata": {
        "id": "wTfNEcSVj9fp"
      },
      "source": [
        "STA 4320 Final Practice - Daeyoung Hwang"
      ]
    },
    {
      "cell_type": "code",
      "metadata": {
        "colab": {
          "base_uri": "https://localhost:8080/"
        },
        "id": "ojrigGT-jsrn",
        "outputId": "4bf61029-e2e9-4ef5-c31f-0f7e8e03e8f4"
      },
      "source": [
        "load(\"/content/anesthesia.RData\")\n",
        "str(anesthesia)\n",
        "attach(anesthesia)"
      ],
      "execution_count": 1,
      "outputs": [
        {
          "output_type": "stream",
          "name": "stdout",
          "text": [
            "'data.frame':\t103 obs. of  5 variables:\n",
            " $ time     : num  0 7 24 4 30 4 12 13 27 4 ...\n",
            " $ treatment: chr  \"M\" \"S\" \"S\" \"M\" ...\n",
            " $ age      : num  52 54 46 54 41 21 68 61 44 28 ...\n",
            " $ gender   : chr  \"F\" \"F\" \"F\" \"F\" ...\n",
            " $ opioid   : num  30 150 0 15 90 15 15 60 90 0 ...\n"
          ]
        }
      ]
    },
    {
      "cell_type": "markdown",
      "metadata": {
        "id": "_3PLMmKhkEza"
      },
      "source": [
        "1."
      ]
    },
    {
      "cell_type": "code",
      "metadata": {
        "colab": {
          "base_uri": "https://localhost:8080/",
          "height": 415
        },
        "id": "Y8QOHoN3kCx1",
        "outputId": "a6a6004f-46d6-472f-9769-2a31e14ccc3a"
      },
      "source": [
        "slr <- lm(time ~ age)\n",
        "summary(slr)\n",
        "sd(age)\n",
        "age\n"
      ],
      "execution_count": 2,
      "outputs": [
        {
          "output_type": "display_data",
          "data": {
            "text/plain": [
              "\n",
              "Call:\n",
              "lm(formula = time ~ age)\n",
              "\n",
              "Residuals:\n",
              "    Min      1Q  Median      3Q     Max \n",
              "-13.170  -8.037  -4.133   4.170  37.124 \n",
              "\n",
              "Coefficients:\n",
              "            Estimate Std. Error t value Pr(>|t|)    \n",
              "(Intercept)  15.0781     4.3891   3.435  0.00086 ***\n",
              "age          -0.0367     0.0883  -0.416  0.67856    \n",
              "---\n",
              "Signif. codes:  0 ‘***’ 0.001 ‘**’ 0.01 ‘*’ 0.05 ‘.’ 0.1 ‘ ’ 1\n",
              "\n",
              "Residual standard error: 11.92 on 101 degrees of freedom\n",
              "Multiple R-squared:  0.001708,\tAdjusted R-squared:  -0.008177 \n",
              "F-statistic: 0.1728 on 1 and 101 DF,  p-value: 0.6786\n"
            ]
          },
          "metadata": {}
        },
        {
          "output_type": "display_data",
          "data": {
            "text/plain": [
              "[1] 13.36289"
            ],
            "text/latex": "13.3628931801574",
            "text/markdown": "13.3628931801574",
            "text/html": [
              "13.3628931801574"
            ]
          },
          "metadata": {}
        },
        {
          "output_type": "display_data",
          "data": {
            "text/plain": [
              "  [1] 52 54 46 54 41 21 68 61 44 28 36 60 34 64 37 51 58 24 28 50 74 52 53 19 41\n",
              " [26] 49 46 57 50 60 52 39 53 64 51 47 66 59 31 64 61 50 32 54 53 57 56 32 23 61\n",
              " [51] 52 18 42 44 22 48 52 48 51 54 36 53 66 60 50 53 52 36 66 32 57 54 52 31 36\n",
              " [76] 35 51 56 62 32 57 59 62 25 29 65 28 65 46 67 55 59 38 60 41 68 66 41 19 31\n",
              "[101] 40 53 41"
            ],
            "text/latex": "\\begin{enumerate*}\n\\item 52\n\\item 54\n\\item 46\n\\item 54\n\\item 41\n\\item 21\n\\item 68\n\\item 61\n\\item 44\n\\item 28\n\\item 36\n\\item 60\n\\item 34\n\\item 64\n\\item 37\n\\item 51\n\\item 58\n\\item 24\n\\item 28\n\\item 50\n\\item 74\n\\item 52\n\\item 53\n\\item 19\n\\item 41\n\\item 49\n\\item 46\n\\item 57\n\\item 50\n\\item 60\n\\item 52\n\\item 39\n\\item 53\n\\item 64\n\\item 51\n\\item 47\n\\item 66\n\\item 59\n\\item 31\n\\item 64\n\\item 61\n\\item 50\n\\item 32\n\\item 54\n\\item 53\n\\item 57\n\\item 56\n\\item 32\n\\item 23\n\\item 61\n\\item 52\n\\item 18\n\\item 42\n\\item 44\n\\item 22\n\\item 48\n\\item 52\n\\item 48\n\\item 51\n\\item 54\n\\item 36\n\\item 53\n\\item 66\n\\item 60\n\\item 50\n\\item 53\n\\item 52\n\\item 36\n\\item 66\n\\item 32\n\\item 57\n\\item 54\n\\item 52\n\\item 31\n\\item 36\n\\item 35\n\\item 51\n\\item 56\n\\item 62\n\\item 32\n\\item 57\n\\item 59\n\\item 62\n\\item 25\n\\item 29\n\\item 65\n\\item 28\n\\item 65\n\\item 46\n\\item 67\n\\item 55\n\\item 59\n\\item 38\n\\item 60\n\\item 41\n\\item 68\n\\item 66\n\\item 41\n\\item 19\n\\item 31\n\\item 40\n\\item 53\n\\item 41\n\\end{enumerate*}\n",
            "text/markdown": "1. 52\n2. 54\n3. 46\n4. 54\n5. 41\n6. 21\n7. 68\n8. 61\n9. 44\n10. 28\n11. 36\n12. 60\n13. 34\n14. 64\n15. 37\n16. 51\n17. 58\n18. 24\n19. 28\n20. 50\n21. 74\n22. 52\n23. 53\n24. 19\n25. 41\n26. 49\n27. 46\n28. 57\n29. 50\n30. 60\n31. 52\n32. 39\n33. 53\n34. 64\n35. 51\n36. 47\n37. 66\n38. 59\n39. 31\n40. 64\n41. 61\n42. 50\n43. 32\n44. 54\n45. 53\n46. 57\n47. 56\n48. 32\n49. 23\n50. 61\n51. 52\n52. 18\n53. 42\n54. 44\n55. 22\n56. 48\n57. 52\n58. 48\n59. 51\n60. 54\n61. 36\n62. 53\n63. 66\n64. 60\n65. 50\n66. 53\n67. 52\n68. 36\n69. 66\n70. 32\n71. 57\n72. 54\n73. 52\n74. 31\n75. 36\n76. 35\n77. 51\n78. 56\n79. 62\n80. 32\n81. 57\n82. 59\n83. 62\n84. 25\n85. 29\n86. 65\n87. 28\n88. 65\n89. 46\n90. 67\n91. 55\n92. 59\n93. 38\n94. 60\n95. 41\n96. 68\n97. 66\n98. 41\n99. 19\n100. 31\n101. 40\n102. 53\n103. 41\n\n\n",
            "text/html": [
              "<style>\n",
              ".list-inline {list-style: none; margin:0; padding: 0}\n",
              ".list-inline>li {display: inline-block}\n",
              ".list-inline>li:not(:last-child)::after {content: \"\\00b7\"; padding: 0 .5ex}\n",
              "</style>\n",
              "<ol class=list-inline><li>52</li><li>54</li><li>46</li><li>54</li><li>41</li><li>21</li><li>68</li><li>61</li><li>44</li><li>28</li><li>36</li><li>60</li><li>34</li><li>64</li><li>37</li><li>51</li><li>58</li><li>24</li><li>28</li><li>50</li><li>74</li><li>52</li><li>53</li><li>19</li><li>41</li><li>49</li><li>46</li><li>57</li><li>50</li><li>60</li><li>52</li><li>39</li><li>53</li><li>64</li><li>51</li><li>47</li><li>66</li><li>59</li><li>31</li><li>64</li><li>61</li><li>50</li><li>32</li><li>54</li><li>53</li><li>57</li><li>56</li><li>32</li><li>23</li><li>61</li><li>52</li><li>18</li><li>42</li><li>44</li><li>22</li><li>48</li><li>52</li><li>48</li><li>51</li><li>54</li><li>36</li><li>53</li><li>66</li><li>60</li><li>50</li><li>53</li><li>52</li><li>36</li><li>66</li><li>32</li><li>57</li><li>54</li><li>52</li><li>31</li><li>36</li><li>35</li><li>51</li><li>56</li><li>62</li><li>32</li><li>57</li><li>59</li><li>62</li><li>25</li><li>29</li><li>65</li><li>28</li><li>65</li><li>46</li><li>67</li><li>55</li><li>59</li><li>38</li><li>60</li><li>41</li><li>68</li><li>66</li><li>41</li><li>19</li><li>31</li><li>40</li><li>53</li><li>41</li></ol>\n"
            ]
          },
          "metadata": {}
        }
      ]
    },
    {
      "cell_type": "markdown",
      "metadata": {
        "id": "H9i1FWajkL9K"
      },
      "source": [
        "a)"
      ]
    },
    {
      "cell_type": "markdown",
      "metadata": {
        "id": "F2Ozsa5ikO9e"
      },
      "source": [
        "i. For a new born baby, it would take on average 15 seconds for the anesthesia to take effect. While the age of 0 makes logical sense, it is well outside the range of our age so is not meaningful"
      ]
    },
    {
      "cell_type": "markdown",
      "metadata": {
        "id": "o80ZqUBxkT84"
      },
      "source": [
        "ii. for every 10 years of age for a patient, the anesthesia takes 0.367 fewer minutes on average to block the pain for the patient"
      ]
    },
    {
      "cell_type": "markdown",
      "metadata": {
        "id": "u_T6X5-RlOcd"
      },
      "source": [
        "iii. "
      ]
    },
    {
      "cell_type": "code",
      "metadata": {
        "colab": {
          "base_uri": "https://localhost:8080/",
          "height": 242
        },
        "id": "13jT5ISrkOoT",
        "outputId": "239802ab-53ef-454e-fc91-ff78a4ea59d1"
      },
      "source": [
        "confint(slr, level = 0.9) \n",
        "confint(slr, level = 0.9) * 10"
      ],
      "execution_count": 3,
      "outputs": [
        {
          "output_type": "display_data",
          "data": {
            "text/plain": [
              "            5 %        95 %      \n",
              "(Intercept)  7.7919287 22.3643582\n",
              "age         -0.1832906  0.1098875"
            ],
            "text/latex": "A matrix: 2 × 2 of type dbl\n\\begin{tabular}{r|ll}\n  & 5 \\% & 95 \\%\\\\\n\\hline\n\t(Intercept) &  7.7919287 & 22.3643582\\\\\n\tage & -0.1832906 &  0.1098875\\\\\n\\end{tabular}\n",
            "text/markdown": "\nA matrix: 2 × 2 of type dbl\n\n| <!--/--> | 5 % | 95 % |\n|---|---|---|\n| (Intercept) |  7.7919287 | 22.3643582 |\n| age | -0.1832906 |  0.1098875 |\n\n",
            "text/html": [
              "<table class=\"dataframe\">\n",
              "<caption>A matrix: 2 × 2 of type dbl</caption>\n",
              "<thead>\n",
              "\t<tr><th></th><th scope=col>5 %</th><th scope=col>95 %</th></tr>\n",
              "</thead>\n",
              "<tbody>\n",
              "\t<tr><th scope=row>(Intercept)</th><td> 7.7919287</td><td>22.3643582</td></tr>\n",
              "\t<tr><th scope=row>age</th><td>-0.1832906</td><td> 0.1098875</td></tr>\n",
              "</tbody>\n",
              "</table>\n"
            ]
          },
          "metadata": {}
        },
        {
          "output_type": "display_data",
          "data": {
            "text/plain": [
              "            5 %       95 %      \n",
              "(Intercept) 77.919287 223.643582\n",
              "age         -1.832906   1.098875"
            ],
            "text/latex": "A matrix: 2 × 2 of type dbl\n\\begin{tabular}{r|ll}\n  & 5 \\% & 95 \\%\\\\\n\\hline\n\t(Intercept) & 77.919287 & 223.643582\\\\\n\tage & -1.832906 &   1.098875\\\\\n\\end{tabular}\n",
            "text/markdown": "\nA matrix: 2 × 2 of type dbl\n\n| <!--/--> | 5 % | 95 % |\n|---|---|---|\n| (Intercept) | 77.919287 | 223.643582 |\n| age | -1.832906 |   1.098875 |\n\n",
            "text/html": [
              "<table class=\"dataframe\">\n",
              "<caption>A matrix: 2 × 2 of type dbl</caption>\n",
              "<thead>\n",
              "\t<tr><th></th><th scope=col>5 %</th><th scope=col>95 %</th></tr>\n",
              "</thead>\n",
              "<tbody>\n",
              "\t<tr><th scope=row>(Intercept)</th><td>77.919287</td><td>223.643582</td></tr>\n",
              "\t<tr><th scope=row>age</th><td>-1.832906</td><td>  1.098875</td></tr>\n",
              "</tbody>\n",
              "</table>\n"
            ]
          },
          "metadata": {}
        }
      ]
    },
    {
      "cell_type": "markdown",
      "metadata": {
        "id": "0j-BPMXZA_ML"
      },
      "source": [
        "We can be 90% certain that for each additional 10 years of age, mean time it takes for anesthesia to work is between 1.8 minutes lower and 1.1 minutes higher."
      ]
    },
    {
      "cell_type": "markdown",
      "metadata": {
        "id": "R3aKmrXAln2a"
      },
      "source": [
        "iv. We fail to reject the null hypothesis because 0 lies inside the CI. Therefore, age is not related to the amount of time it takes anesthesia to kick in"
      ]
    },
    {
      "cell_type": "markdown",
      "metadata": {
        "id": "DgJQYdNVmpL2"
      },
      "source": [
        "b)"
      ]
    },
    {
      "cell_type": "markdown",
      "metadata": {
        "id": "Vy8hWyKnmqT_"
      },
      "source": [
        "i."
      ]
    },
    {
      "cell_type": "code",
      "metadata": {
        "colab": {
          "base_uri": "https://localhost:8080/",
          "height": 437
        },
        "id": "tjZbhoesmr-9",
        "outputId": "f6580f1e-0530-4096-8406-e8fafe64652a"
      },
      "source": [
        "plot(age, time, pch=20)\n",
        "abline(slr)\n"
      ],
      "execution_count": 4,
      "outputs": [
        {
          "output_type": "display_data",
          "data": {
            "image/png": "[encoded data removed]",
            "text/plain": [
              "plot without title"
            ]
          },
          "metadata": {
            "image/png": {
              "width": 420,
              "height": 420
            }
          }
        }
      ]
    },
    {
      "cell_type": "markdown",
      "metadata": {
        "id": "tUrxIS6wm0on"
      },
      "source": [
        "ii."
      ]
    },
    {
      "cell_type": "code",
      "metadata": {
        "colab": {
          "base_uri": "https://localhost:8080/",
          "height": 489
        },
        "id": "OcgIbUWpm2WU",
        "outputId": "ab83f856-5264-46ad-e845-d35a64d57961"
      },
      "source": [
        "h <- hatvalues(slr)\n",
        "hbar <- mean(h)\n",
        "hbar\n",
        "k <- 1\n",
        "n <- nrow(anesthesia)\n",
        "hbar <- (k + 1)/ n \n",
        "hbar\n",
        "high_lev <- which(h > 2* hbar)\n",
        "high_lev\n",
        "plot(age, time, pch=20)\n",
        "abline(slr)\n",
        "points(age[high_lev], time[high_lev], col=\"orange\", cex=2)"
      ],
      "execution_count": 5,
      "outputs": [
        {
          "output_type": "display_data",
          "data": {
            "text/plain": [
              "[1] 0.01941748"
            ],
            "text/latex": "0.0194174757281553",
            "text/markdown": "0.0194174757281553",
            "text/html": [
              "0.0194174757281553"
            ]
          },
          "metadata": {}
        },
        {
          "output_type": "display_data",
          "data": {
            "text/plain": [
              "[1] 0.01941748"
            ],
            "text/latex": "0.0194174757281553",
            "text/markdown": "0.0194174757281553",
            "text/html": [
              "0.0194174757281553"
            ]
          },
          "metadata": {}
        },
        {
          "output_type": "display_data",
          "data": {
            "text/plain": [
              " 6 18 21 24 49 52 55 99 \n",
              " 6 18 21 24 49 52 55 99 "
            ],
            "text/latex": "\\begin{description*}\n\\item[6] 6\n\\item[18] 18\n\\item[21] 21\n\\item[24] 24\n\\item[49] 49\n\\item[52] 52\n\\item[55] 55\n\\item[99] 99\n\\end{description*}\n",
            "text/markdown": "6\n:   618\n:   1821\n:   2124\n:   2449\n:   4952\n:   5255\n:   5599\n:   99\n\n",
            "text/html": [
              "<style>\n",
              ".dl-inline {width: auto; margin:0; padding: 0}\n",
              ".dl-inline>dt, .dl-inline>dd {float: none; width: auto; display: inline-block}\n",
              ".dl-inline>dt::after {content: \":\\0020\"; padding-right: .5ex}\n",
              ".dl-inline>dt:not(:first-of-type) {padding-left: .5ex}\n",
              "</style><dl class=dl-inline><dt>6</dt><dd>6</dd><dt>18</dt><dd>18</dd><dt>21</dt><dd>21</dd><dt>24</dt><dd>24</dd><dt>49</dt><dd>49</dd><dt>52</dt><dd>52</dd><dt>55</dt><dd>55</dd><dt>99</dt><dd>99</dd></dl>\n"
            ]
          },
          "metadata": {}
        },
        {
          "output_type": "display_data",
          "data": {
            "image/png": "[encoded data removed]",
            "text/plain": [
              "plot without title"
            ]
          },
          "metadata": {
            "image/png": {
              "width": 420,
              "height": 420
            }
          }
        }
      ]
    },
    {
      "cell_type": "markdown",
      "metadata": {
        "id": "NczKvdBGrk2m"
      },
      "source": [
        "iii."
      ]
    },
    {
      "cell_type": "code",
      "metadata": {
        "colab": {
          "base_uri": "https://localhost:8080/",
          "height": 437
        },
        "id": "G5kENPSlrlvh",
        "outputId": "05fea81c-9029-4483-a899-689dd371ba84"
      },
      "source": [
        "E_star <-rstudent(slr)\n",
        "cutoff <- qt(0.99, n-k-2)\n",
        "high_resid <- which(abs(E_star) > cutoff)\n",
        "plot(age, time, pch=20)\n",
        "abline(slr)\n",
        "points(age[high_lev], time[high_lev], col=\"orange\", cex=2)\n",
        "points(age[high_resid], time[high_resid], col=\"blue\", pch=\"X\", cex=1)"
      ],
      "execution_count": 6,
      "outputs": [
        {
          "output_type": "display_data",
          "data": {
            "image/png": "[encoded data removed]",
            "text/plain": [
              "plot without title"
            ]
          },
          "metadata": {
            "image/png": {
              "width": 420,
              "height": 420
            }
          }
        }
      ]
    },
    {
      "cell_type": "markdown",
      "metadata": {
        "id": "ANHZu4v1EtXu"
      },
      "source": [
        "iv."
      ]
    },
    {
      "cell_type": "code",
      "metadata": {
        "colab": {
          "base_uri": "https://localhost:8080/",
          "height": 437
        },
        "id": "dM8xz3RuEuGw",
        "outputId": "9816ec58-cf73-41aa-af73-20508d4d5664"
      },
      "source": [
        "D <- cooks.distance(slr)\n",
        "high_cook <- which(D > 4/(n-k-1))\n",
        "plot(age, time, pch=20)\n",
        "abline(slr)\n",
        "points(age[high_lev], time[high_lev], col=\"orange\", cex=2)\n",
        "points(age[high_resid], time[high_resid], col=\"blue\", pch=\"X\", cex=1)\n",
        "points(age[high_cook], time[high_cook], col=\"red\", pch=\"C\", cex=2)"
      ],
      "execution_count": 7,
      "outputs": [
        {
          "output_type": "display_data",
          "data": {
            "image/png": "[encoded data removed]",
            "text/plain": [
              "plot without title"
            ]
          },
          "metadata": {
            "image/png": {
              "width": 420,
              "height": 420
            }
          }
        }
      ]
    },
    {
      "cell_type": "markdown",
      "metadata": {
        "id": "NkSL7rmqFf4f"
      },
      "source": [
        "v."
      ]
    },
    {
      "cell_type": "code",
      "metadata": {
        "colab": {
          "base_uri": "https://localhost:8080/",
          "height": 675
        },
        "id": "zCRozZgpFgcS",
        "outputId": "d4206c24-552c-4702-b00c-55d4f5b8988d"
      },
      "source": [
        "slr2 <- lm(time ~age, subset=-high_cook)\n",
        "summary(slr2)\n",
        "summary(slr)"
      ],
      "execution_count": 8,
      "outputs": [
        {
          "output_type": "display_data",
          "data": {
            "text/plain": [
              "\n",
              "Call:\n",
              "lm(formula = time ~ age, subset = -high_cook)\n",
              "\n",
              "Residuals:\n",
              "    Min      1Q  Median      3Q     Max \n",
              "-11.318  -6.304  -2.314   3.705  29.682 \n",
              "\n",
              "Coefficients:\n",
              "             Estimate Std. Error t value Pr(>|t|)   \n",
              "(Intercept) 11.195423   3.414790   3.279  0.00146 **\n",
              "age          0.002363   0.068375   0.035  0.97250   \n",
              "---\n",
              "Signif. codes:  0 ‘***’ 0.001 ‘**’ 0.01 ‘*’ 0.05 ‘.’ 0.1 ‘ ’ 1\n",
              "\n",
              "Residual standard error: 8.867 on 95 degrees of freedom\n",
              "Multiple R-squared:  1.258e-05,\tAdjusted R-squared:  -0.01051 \n",
              "F-statistic: 0.001195 on 1 and 95 DF,  p-value: 0.9725\n"
            ]
          },
          "metadata": {}
        },
        {
          "output_type": "display_data",
          "data": {
            "text/plain": [
              "\n",
              "Call:\n",
              "lm(formula = time ~ age)\n",
              "\n",
              "Residuals:\n",
              "    Min      1Q  Median      3Q     Max \n",
              "-13.170  -8.037  -4.133   4.170  37.124 \n",
              "\n",
              "Coefficients:\n",
              "            Estimate Std. Error t value Pr(>|t|)    \n",
              "(Intercept)  15.0781     4.3891   3.435  0.00086 ***\n",
              "age          -0.0367     0.0883  -0.416  0.67856    \n",
              "---\n",
              "Signif. codes:  0 ‘***’ 0.001 ‘**’ 0.01 ‘*’ 0.05 ‘.’ 0.1 ‘ ’ 1\n",
              "\n",
              "Residual standard error: 11.92 on 101 degrees of freedom\n",
              "Multiple R-squared:  0.001708,\tAdjusted R-squared:  -0.008177 \n",
              "F-statistic: 0.1728 on 1 and 101 DF,  p-value: 0.6786\n"
            ]
          },
          "metadata": {}
        }
      ]
    },
    {
      "cell_type": "markdown",
      "metadata": {
        "id": "6oDaKp_WFvdc"
      },
      "source": [
        "The sign of the point estimate changed from negative to positive. However, both estimates were very close to 0, and for both models, the relationship was not at all close to being statistically significant. So nothing in any substantial or important way"
      ]
    },
    {
      "cell_type": "markdown",
      "metadata": {
        "id": "jmO-UXs0Gxtf"
      },
      "source": [
        "c."
      ]
    },
    {
      "cell_type": "code",
      "metadata": {
        "colab": {
          "base_uri": "https://localhost:8080/",
          "height": 437
        },
        "id": "REvwWxfzGyfU",
        "outputId": "e37e0c9b-ee3b-4516-bc1f-a7e4d9f13675"
      },
      "source": [
        "hist(residuals(slr))"
      ],
      "execution_count": 9,
      "outputs": [
        {
          "output_type": "display_data",
          "data": {
            "image/png": "[encoded data removed]",
            "text/plain": [
              "Plot with title “Histogram of residuals(slr)”"
            ]
          },
          "metadata": {
            "image/png": {
              "width": 420,
              "height": 420
            }
          }
        }
      ]
    },
    {
      "cell_type": "markdown",
      "metadata": {
        "id": "nua-rIw3G0fM"
      },
      "source": [
        "The residuals appear to have a substantial right skew. This indicates that the assumption of noramlity of errors is violated"
      ]
    },
    {
      "cell_type": "markdown",
      "metadata": {
        "id": "BfdyNTkUG5Zo"
      },
      "source": [
        "2."
      ]
    },
    {
      "cell_type": "markdown",
      "metadata": {
        "id": "GE0oJcinG6HX"
      },
      "source": [
        "a."
      ]
    },
    {
      "cell_type": "code",
      "metadata": {
        "colab": {
          "base_uri": "https://localhost:8080/",
          "height": 528
        },
        "id": "GLf6gzlmIRsF",
        "outputId": "f1733d51-1095-446f-8ba5-f15c20ec881f"
      },
      "source": [
        "sequential <-as.numeric(treatment==\"S\")\n",
        "table(sequential, treatment)\n",
        "male <- as.numeric(gender==\"M\")\n",
        "table(male, gender)\n",
        "mlr <- lm(time ~ sequential + age + male)\n",
        "summary(mlr)"
      ],
      "execution_count": 10,
      "outputs": [
        {
          "output_type": "display_data",
          "data": {
            "text/plain": [
              "          treatment\n",
              "sequential  M  S\n",
              "         0 52  0\n",
              "         1  0 51"
            ]
          },
          "metadata": {}
        },
        {
          "output_type": "display_data",
          "data": {
            "text/plain": [
              "    gender\n",
              "male  F  M\n",
              "   0 57  0\n",
              "   1  0 46"
            ]
          },
          "metadata": {}
        },
        {
          "output_type": "display_data",
          "data": {
            "text/plain": [
              "\n",
              "Call:\n",
              "lm(formula = time ~ sequential + age + male)\n",
              "\n",
              "Residuals:\n",
              "    Min      1Q  Median      3Q     Max \n",
              "-15.337  -7.494  -3.916   3.758  39.498 \n",
              "\n",
              "Coefficients:\n",
              "            Estimate Std. Error t value Pr(>|t|)  \n",
              "(Intercept) 11.49604    4.78880   2.401   0.0182 *\n",
              "sequential   3.44671    2.37908   1.449   0.1506  \n",
              "age         -0.01656    0.08844  -0.187   0.8518  \n",
              "male         2.03980    2.38256   0.856   0.3940  \n",
              "---\n",
              "Signif. codes:  0 ‘***’ 0.001 ‘**’ 0.01 ‘*’ 0.05 ‘.’ 0.1 ‘ ’ 1\n",
              "\n",
              "Residual standard error: 11.84 on 99 degrees of freedom\n",
              "Multiple R-squared:  0.03399,\tAdjusted R-squared:  0.004713 \n",
              "F-statistic: 1.161 on 3 and 99 DF,  p-value: 0.3286\n"
            ]
          },
          "metadata": {}
        }
      ]
    },
    {
      "cell_type": "markdown",
      "metadata": {
        "id": "B2eXisJ6JH8J"
      },
      "source": [
        "i."
      ]
    },
    {
      "cell_type": "markdown",
      "metadata": {
        "id": "4JlbgczqJMM1"
      },
      "source": [
        "B1 = 3.44671; the mean time for the anesthesia to work is 3.5 minutes higher for the sequential method than for the mixture method, assuming age and gender are fixed. The mixture appears better since it takes less time on average for the anesthesia to work"
      ]
    },
    {
      "cell_type": "markdown",
      "metadata": {
        "id": "I-7rrPJMJde7"
      },
      "source": [
        "ii."
      ]
    },
    {
      "cell_type": "markdown",
      "metadata": {
        "id": "q5iZuPZOJeSL"
      },
      "source": [
        "Because the p-value of sequential is 0.1506, we do not have evidence that the anesthesia method is related to the time to effect. Hence, this relationship is not statistically significant"
      ]
    },
    {
      "cell_type": "markdown",
      "metadata": {
        "id": "yjnDZ8x4M4zV"
      },
      "source": [
        "b."
      ]
    },
    {
      "cell_type": "markdown",
      "metadata": {
        "id": "a1YZOrHvNedG"
      },
      "source": [
        "Overall F-test addresses the question \"are any of my X's related to Y's\", so this is an overall F-test"
      ]
    },
    {
      "cell_type": "markdown",
      "metadata": {
        "id": "JMujYZJdM6Ji"
      },
      "source": [
        "i."
      ]
    },
    {
      "cell_type": "markdown",
      "metadata": {
        "id": "sN0wAhIiNjXd"
      },
      "source": [
        "H0: beta1=beta2=beta3=0;None of the variables anesthesia method, age, or gender is related to the time it takes the anesthesia to work\n",
        "\n",
        "HA: betaj != 0 for some j = 1, 2, or 3; at least one of method, age, or gender is related to the time it takes the anesthesia to work\n"
      ]
    },
    {
      "cell_type": "markdown",
      "metadata": {
        "id": "xJWl1X78OZGD"
      },
      "source": [
        "ii."
      ]
    },
    {
      "cell_type": "markdown",
      "metadata": {
        "id": "o4Czv7HgOaYi"
      },
      "source": [
        "ii. F_ts = 1.161, p-value = 0.3286. We fail to reject H0; we have no evidence that any of the variables anesthesia method, age, or gender is related to the time it takes the anesthesia to work\n"
      ]
    },
    {
      "cell_type": "markdown",
      "metadata": {
        "id": "SpJNtRvQOtas"
      },
      "source": [
        "3."
      ]
    },
    {
      "cell_type": "markdown",
      "metadata": {
        "id": "97g2hlO1P-n3"
      },
      "source": [
        "a."
      ]
    },
    {
      "cell_type": "markdown",
      "metadata": {
        "id": "3rM2D9lXOv7W"
      },
      "source": [
        "Y = amount of opioid pain relieving medication (mg) the patient took immediately following surgery\n",
        "\n",
        "X1 = age (years)\n",
        "\n",
        "X2 = gender(0 for female, 1 for male)\n",
        "\n",
        "X3 = indicator treatment type (0 for mixture, 1 for sequential)\n",
        "\n",
        "X4 = time it took for the anesthesia to work"
      ]
    },
    {
      "cell_type": "code",
      "metadata": {
        "colab": {
          "base_uri": "https://localhost:8080/",
          "height": 401
        },
        "id": "JSI-ngF2PPUa",
        "outputId": "3bbb0526-2d0b-47ed-d2ce-4a549e948cd2"
      },
      "source": [
        "mlr2 <-lm(opioid ~ age + male + sequential + time)\n",
        "summary(mlr2)\n"
      ],
      "execution_count": 11,
      "outputs": [
        {
          "output_type": "display_data",
          "data": {
            "text/plain": [
              "\n",
              "Call:\n",
              "lm(formula = opioid ~ age + male + sequential + time)\n",
              "\n",
              "Residuals:\n",
              "   Min     1Q Median     3Q    Max \n",
              "-92.51 -35.90 -15.30  22.87 160.89 \n",
              "\n",
              "Coefficients:\n",
              "             Estimate Std. Error t value Pr(>|t|)    \n",
              "(Intercept)  43.11864   23.19299   1.859 0.066010 .  \n",
              "age           0.04249    0.41643   0.102 0.918941    \n",
              "male        -31.34780   11.25872  -2.784 0.006438 ** \n",
              "sequential    1.21527   11.31900   0.107 0.914719    \n",
              "time          1.62800    0.47318   3.441 0.000854 ***\n",
              "---\n",
              "Signif. codes:  0 ‘***’ 0.001 ‘**’ 0.01 ‘*’ 0.05 ‘.’ 0.1 ‘ ’ 1\n",
              "\n",
              "Residual standard error: 55.75 on 98 degrees of freedom\n",
              "Multiple R-squared:  0.1562,\tAdjusted R-squared:  0.1218 \n",
              "F-statistic: 4.537 on 4 and 98 DF,  p-value: 0.002099\n"
            ]
          },
          "metadata": {}
        }
      ]
    },
    {
      "cell_type": "markdown",
      "metadata": {
        "id": "g9r-JmUdQQP4"
      },
      "source": [
        "b."
      ]
    },
    {
      "cell_type": "markdown",
      "metadata": {
        "id": "e4lzBd4kQRNo"
      },
      "source": [
        "B2 = -31.34780; male patients on average used 31.3grams less opioids post operatively compared to female patients of the same age, same anesthesia method, and same time taken for the anesthesia to work"
      ]
    },
    {
      "cell_type": "markdown",
      "metadata": {
        "id": "abFpDEqBQmtm"
      },
      "source": [
        "c."
      ]
    },
    {
      "cell_type": "markdown",
      "metadata": {
        "id": "dT89ma93RO00"
      },
      "source": [
        "i."
      ]
    },
    {
      "cell_type": "markdown",
      "metadata": {
        "id": "4FAqk2igRPxn"
      },
      "source": [
        "H0: beta3=beta4=0; neither anesthesia method nor time for anesthesia effect is related to post-op opioid use among patients of fixed age and gender\n",
        "\n",
        "HA: beta3 != 0 or beta4 != 0 at least one of anesthesia method nor time for anesthesia effect is related to post-op opioid use among patients of fixed age and gender"
      ]
    },
    {
      "cell_type": "markdown",
      "metadata": {
        "id": "g_PAFynWRU0E"
      },
      "source": [
        "ii."
      ]
    },
    {
      "cell_type": "code",
      "metadata": {
        "colab": {
          "base_uri": "https://localhost:8080/",
          "height": 52
        },
        "id": "6OPaYkqkR2Yh",
        "outputId": "3a4ef164-2088-468f-c4e6-e7f26d791087"
      },
      "source": [
        "full_model <- mlr2\n",
        "null_model <- lm(opioid ~ age + male)\n",
        "RSS1 <- sum(residuals(full_model)^2)\n",
        "RSS0 <- sum(residuals(null_model)^2)\n",
        "n <- nrow(anesthesia) #sample size\n",
        "k <- 4 #number of x's in full model\n",
        "q <- 2 #difference in number of x's between the two models\n",
        "F_ts <- (RSS0 - RSS1)/q/(RSS1/(n-k-1))\n",
        "F_ts\n",
        "\n",
        "p_val <- pf(F_ts, q, n-k-1, lower.tail=FALSE)\n",
        "p_val"
      ],
      "execution_count": 12,
      "outputs": [
        {
          "output_type": "display_data",
          "data": {
            "text/plain": [
              "[1] 6.104453"
            ],
            "text/latex": "6.104452763184",
            "text/markdown": "6.104452763184",
            "text/html": [
              "6.104452763184"
            ]
          },
          "metadata": {}
        },
        {
          "output_type": "display_data",
          "data": {
            "text/plain": [
              "[1] 0.003172926"
            ],
            "text/latex": "0.00317292586200509",
            "text/markdown": "0.00317292586200509",
            "text/html": [
              "0.00317292586200509"
            ]
          },
          "metadata": {}
        }
      ]
    },
    {
      "cell_type": "markdown",
      "metadata": {
        "id": "PGiz5hy7StU2"
      },
      "source": [
        "iii."
      ]
    },
    {
      "cell_type": "code",
      "metadata": {
        "colab": {
          "base_uri": "https://localhost:8080/",
          "height": 161
        },
        "id": "fxBNC_-mSt_I",
        "outputId": "579be4b6-c6e7-44c9-f6c6-ce9f3b66fb6e"
      },
      "source": [
        "anova(null_model, full_model)"
      ],
      "execution_count": 13,
      "outputs": [
        {
          "output_type": "display_data",
          "data": {
            "text/plain": [
              "  Res.Df RSS      Df Sum of Sq F        Pr(>F)     \n",
              "1 100    342501.1 NA       NA        NA          NA\n",
              "2  98    304558.9  2 37942.15  6.104453 0.003172926"
            ],
            "text/latex": "A anova: 2 × 6\n\\begin{tabular}{r|llllll}\n  & Res.Df & RSS & Df & Sum of Sq & F & Pr(>F)\\\\\n  & <dbl> & <dbl> & <dbl> & <dbl> & <dbl> & <dbl>\\\\\n\\hline\n\t1 & 100 & 342501.1 & NA &       NA &       NA &          NA\\\\\n\t2 &  98 & 304558.9 &  2 & 37942.15 & 6.104453 & 0.003172926\\\\\n\\end{tabular}\n",
            "text/markdown": "\nA anova: 2 × 6\n\n| <!--/--> | Res.Df &lt;dbl&gt; | RSS &lt;dbl&gt; | Df &lt;dbl&gt; | Sum of Sq &lt;dbl&gt; | F &lt;dbl&gt; | Pr(&gt;F) &lt;dbl&gt; |\n|---|---|---|---|---|---|---|\n| 1 | 100 | 342501.1 | NA |       NA |       NA |          NA |\n| 2 |  98 | 304558.9 |  2 | 37942.15 | 6.104453 | 0.003172926 |\n\n",
            "text/html": [
              "<table class=\"dataframe\">\n",
              "<caption>A anova: 2 × 6</caption>\n",
              "<thead>\n",
              "\t<tr><th></th><th scope=col>Res.Df</th><th scope=col>RSS</th><th scope=col>Df</th><th scope=col>Sum of Sq</th><th scope=col>F</th><th scope=col>Pr(&gt;F)</th></tr>\n",
              "\t<tr><th></th><th scope=col>&lt;dbl&gt;</th><th scope=col>&lt;dbl&gt;</th><th scope=col>&lt;dbl&gt;</th><th scope=col>&lt;dbl&gt;</th><th scope=col>&lt;dbl&gt;</th><th scope=col>&lt;dbl&gt;</th></tr>\n",
              "</thead>\n",
              "<tbody>\n",
              "\t<tr><th scope=row>1</th><td>100</td><td>342501.1</td><td>NA</td><td>      NA</td><td>      NA</td><td>         NA</td></tr>\n",
              "\t<tr><th scope=row>2</th><td> 98</td><td>304558.9</td><td> 2</td><td>37942.15</td><td>6.104453</td><td>0.003172926</td></tr>\n",
              "</tbody>\n",
              "</table>\n"
            ]
          },
          "metadata": {}
        }
      ]
    },
    {
      "cell_type": "markdown",
      "metadata": {
        "id": "aEo7Hun-RxAR"
      },
      "source": [
        "iv."
      ]
    },
    {
      "cell_type": "markdown",
      "metadata": {
        "id": "qNDtKMEIS1Lj"
      },
      "source": [
        "Since the p-value is less than alpha = 0.05, we reject H0. At least one of anesthesia method nor time for anesthesia effect is related to post-op opioid use among patients of fixed age and gender"
      ]
    },
    {
      "cell_type": "markdown",
      "metadata": {
        "id": "IKZIr-6STF00"
      },
      "source": [
        "v."
      ]
    },
    {
      "cell_type": "markdown",
      "metadata": {
        "id": "JjXAu2nlTGm7"
      },
      "source": [
        "Since the p-value for the time variable is much, much smaller than the p-value for the sequential variable, it appears that the time it takes the anesthetic to take effect is more strongly related to the amount of opioids used than the anesthesia administration method"
      ]
    }
  ]
}